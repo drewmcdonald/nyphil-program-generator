{
 "cells": [
  {
   "cell_type": "code",
   "execution_count": 10,
   "metadata": {},
   "outputs": [
    {
     "data": {
      "text/plain": [
       "True"
      ]
     },
     "execution_count": 10,
     "metadata": {},
     "output_type": "execute_result"
    }
   ],
   "source": [
    "from requests import get\n",
    "import json\n",
    "import os\n",
    "\n",
    "from dotenv import load_dotenv\n",
    "load_dotenv(dotenv_path='./.env', verbose=True)"
   ]
  },
  {
   "cell_type": "code",
   "execution_count": 31,
   "metadata": {},
   "outputs": [],
   "source": [
    "import pandas as pd\n",
    "df = pd.read_table('data/interim/work_key.txt', sep='\\t')\n",
    "comp_df = pd.read_table('data/interim/composer_key.txt', sep='\\t')\n",
    "df = df.merge(comp_df, on='composerID')\n",
    "df = df[['composerName', 'workTitle', 'movement']]"
   ]
  },
  {
   "cell_type": "code",
   "execution_count": 63,
   "metadata": {},
   "outputs": [
    {
     "data": {
      "text/html": [
       "<div>\n",
       "<style scoped>\n",
       "    .dataframe tbody tr th:only-of-type {\n",
       "        vertical-align: middle;\n",
       "    }\n",
       "\n",
       "    .dataframe tbody tr th {\n",
       "        vertical-align: top;\n",
       "    }\n",
       "\n",
       "    .dataframe thead th {\n",
       "        text-align: right;\n",
       "    }\n",
       "</style>\n",
       "<table border=\"1\" class=\"dataframe\">\n",
       "  <thead>\n",
       "    <tr style=\"text-align: right;\">\n",
       "      <th></th>\n",
       "      <th>composerName</th>\n",
       "      <th>workTitle</th>\n",
       "      <th>movement</th>\n",
       "    </tr>\n",
       "  </thead>\n",
       "  <tbody>\n",
       "    <tr>\n",
       "      <th>10546</th>\n",
       "      <td>Copland,  Aaron</td>\n",
       "      <td>NIGHT THOUGHTS (HOMAGE TO IVES)</td>\n",
       "      <td>NaN</td>\n",
       "    </tr>\n",
       "  </tbody>\n",
       "</table>\n",
       "</div>"
      ],
      "text/plain": [
       "          composerName                        workTitle movement\n",
       "10546  Copland,  Aaron  NIGHT THOUGHTS (HOMAGE TO IVES)      NaN"
      ]
     },
     "execution_count": 63,
     "metadata": {},
     "output_type": "execute_result"
    }
   ],
   "source": [
    "df.sample()"
   ]
  },
  {
   "cell_type": "code",
   "execution_count": 64,
   "metadata": {},
   "outputs": [],
   "source": [
    "SEARCH_URL = 'https://api.spotify.com/v1/search'\n",
    "TOKEN = os.getenv('SPOTIFY_TOKEN')\n",
    "headers = {\"Authorization\": \"Bearer {}\".format(TOKEN)}\n",
    "\n",
    "params = {\n",
    "    'q': 'copland night thoughts',\n",
    "    'type': 'album'\n",
    "}\n",
    "# mahler 6: 3FCu5nIj6qa8XiOPHn6j5v\n",
    "r = get(SEARCH_URL, params=params, headers=headers)"
   ]
  },
  {
   "cell_type": "code",
   "execution_count": 65,
   "metadata": {},
   "outputs": [
    {
     "data": {
      "text/plain": [
       "{'albums': {'href': 'https://api.spotify.com/v1/search?query=copland+night+thoughts&type=album&market=US&offset=0&limit=20',\n",
       "  'items': [{'album_type': 'single',\n",
       "    'artists': [{'external_urls': {'spotify': 'https://open.spotify.com/artist/0nJvyjVTb8sAULPYyA1bqU'},\n",
       "      'href': 'https://api.spotify.com/v1/artists/0nJvyjVTb8sAULPYyA1bqU',\n",
       "      'id': '0nJvyjVTb8sAULPYyA1bqU',\n",
       "      'name': 'Aaron Copland',\n",
       "      'type': 'artist',\n",
       "      'uri': 'spotify:artist:0nJvyjVTb8sAULPYyA1bqU'},\n",
       "     {'external_urls': {'spotify': 'https://open.spotify.com/artist/2WmI8GU5gmwGSPdQR4PpTU'},\n",
       "      'href': 'https://api.spotify.com/v1/artists/2WmI8GU5gmwGSPdQR4PpTU',\n",
       "      'id': '2WmI8GU5gmwGSPdQR4PpTU',\n",
       "      'name': 'Charles Fierro',\n",
       "      'type': 'artist',\n",
       "      'uri': 'spotify:artist:2WmI8GU5gmwGSPdQR4PpTU'}],\n",
       "    'available_markets': ['AD',\n",
       "     'AR',\n",
       "     'AT',\n",
       "     'AU',\n",
       "     'BE',\n",
       "     'BG',\n",
       "     'BO',\n",
       "     'BR',\n",
       "     'CA',\n",
       "     'CH',\n",
       "     'CL',\n",
       "     'CO',\n",
       "     'CR',\n",
       "     'CY',\n",
       "     'CZ',\n",
       "     'DE',\n",
       "     'DK',\n",
       "     'DO',\n",
       "     'EC',\n",
       "     'EE',\n",
       "     'ES',\n",
       "     'FI',\n",
       "     'FR',\n",
       "     'GB',\n",
       "     'GR',\n",
       "     'GT',\n",
       "     'HK',\n",
       "     'HN',\n",
       "     'HU',\n",
       "     'ID',\n",
       "     'IE',\n",
       "     'IL',\n",
       "     'IS',\n",
       "     'IT',\n",
       "     'JP',\n",
       "     'LI',\n",
       "     'LT',\n",
       "     'LU',\n",
       "     'LV',\n",
       "     'MC',\n",
       "     'MT',\n",
       "     'MX',\n",
       "     'MY',\n",
       "     'NI',\n",
       "     'NL',\n",
       "     'NO',\n",
       "     'NZ',\n",
       "     'PA',\n",
       "     'PE',\n",
       "     'PH',\n",
       "     'PL',\n",
       "     'PT',\n",
       "     'PY',\n",
       "     'RO',\n",
       "     'SE',\n",
       "     'SG',\n",
       "     'SK',\n",
       "     'SV',\n",
       "     'TH',\n",
       "     'TR',\n",
       "     'TW',\n",
       "     'US',\n",
       "     'UY',\n",
       "     'VN',\n",
       "     'ZA'],\n",
       "    'external_urls': {'spotify': 'https://open.spotify.com/album/7z9G3wYOOEf2fSc4CLLQeb'},\n",
       "    'href': 'https://api.spotify.com/v1/albums/7z9G3wYOOEf2fSc4CLLQeb',\n",
       "    'id': '7z9G3wYOOEf2fSc4CLLQeb',\n",
       "    'images': [{'height': 638,\n",
       "      'url': 'https://i.scdn.co/image/dcdf41171047017844674024a802098f7c235f89',\n",
       "      'width': 640},\n",
       "     {'height': 299,\n",
       "      'url': 'https://i.scdn.co/image/be799c9bd0e89738dbaaea026fee3479cb78c47f',\n",
       "      'width': 300},\n",
       "     {'height': 64,\n",
       "      'url': 'https://i.scdn.co/image/0c3cfbb42fd69be0eee7040fca11617e957170d5',\n",
       "      'width': 64}],\n",
       "    'name': 'Copland, A.: Piano Fantasy / Passacaglia / Night Thoughts / Piano Variations',\n",
       "    'release_date': '1987-01-01',\n",
       "    'release_date_precision': 'day',\n",
       "    'type': 'album',\n",
       "    'uri': 'spotify:album:7z9G3wYOOEf2fSc4CLLQeb'}],\n",
       "  'limit': 20,\n",
       "  'next': None,\n",
       "  'offset': 0,\n",
       "  'previous': None,\n",
       "  'total': 1}}"
      ]
     },
     "execution_count": 65,
     "metadata": {},
     "output_type": "execute_result"
    }
   ],
   "source": [
    "json.loads(r.content)"
   ]
  },
  {
   "cell_type": "code",
   "execution_count": 48,
   "metadata": {},
   "outputs": [],
   "source": [
    "url = 'https://api.spotify.com/v1/albums/3FCu5nIj6qa8XiOPHn6j5v/tracks?'"
   ]
  },
  {
   "cell_type": "code",
   "execution_count": 50,
   "metadata": {},
   "outputs": [],
   "source": [
    "r = get(url, params=params, headers=headers)"
   ]
  },
  {
   "cell_type": "code",
   "execution_count": 52,
   "metadata": {},
   "outputs": [],
   "source": [
    "data = json.loads(r.content)"
   ]
  },
  {
   "cell_type": "code",
   "execution_count": 59,
   "metadata": {},
   "outputs": [
    {
     "data": {
      "text/plain": [
       "['Symphony No.6 In A Minor: 1. Allegro energico, ma non troppo. Heftig aber Markig - Live From Philharmonie, Berlin / 2004',\n",
       " 'Symphony No.6 In A Minor: 2. (3.) Andante moderato - Live From Philharmonie, Berlin / 2004',\n",
       " 'Symphony No.6 In A Minor: 3. (2.) Scherzo (Wuchtig) - Live From Philharmonie, Berlin / 2004',\n",
       " 'Symphony No.6 In A Minor: 4. Finale (Allegro moderato) - Live From Philharmonie, Berlin / 2004',\n",
       " 'Applause - Live From Philharmonie, Berlin / 2004']"
      ]
     },
     "execution_count": 59,
     "metadata": {},
     "output_type": "execute_result"
    }
   ],
   "source": [
    "[x['name'] for x in data['items']]"
   ]
  }
 ],
 "metadata": {
  "kernelspec": {
   "display_name": "Python 3",
   "language": "python",
   "name": "python3"
  },
  "language_info": {
   "codemirror_mode": {
    "name": "ipython",
    "version": 3
   },
   "file_extension": ".py",
   "mimetype": "text/x-python",
   "name": "python",
   "nbconvert_exporter": "python",
   "pygments_lexer": "ipython3",
   "version": "3.6.3"
  }
 },
 "nbformat": 4,
 "nbformat_minor": 2
}
