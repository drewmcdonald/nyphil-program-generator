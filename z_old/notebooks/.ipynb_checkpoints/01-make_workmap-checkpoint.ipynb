{
 "cells": [
  {
   "cell_type": "markdown",
   "metadata": {},
   "source": [
    "# Split Works and Composer into Key Tables"
   ]
  },
  {
   "cell_type": "code",
   "execution_count": 1,
   "metadata": {},
   "outputs": [],
   "source": [
    "import pandas as pd\n",
    "import numpy as np"
   ]
  },
  {
   "cell_type": "code",
   "execution_count": 2,
   "metadata": {},
   "outputs": [],
   "source": [
    "works = pd.read_table('data/interim/work_split.txt', sep='\\t')\n",
    "works.drop_duplicates(inplace=True)\n",
    "\n",
    "IDsplit = works.ID.str.split(pat=r'\\*', expand=True)\n",
    "IDsplit.rename(columns={0: 'masterID', 1:'movementID'}, inplace=True)\n",
    "IDsplit = IDsplit.apply(axis=0, \n",
    "                        func=lambda x: x.replace({'': 0}).astype(int))"
   ]
  },
  {
   "cell_type": "code",
   "execution_count": 3,
   "metadata": {},
   "outputs": [],
   "source": [
    "works = works.merge(IDsplit, left_index=True, right_index=True)\n",
    "works['movement'] = works.movement.fillna('')"
   ]
  },
  {
   "cell_type": "code",
   "execution_count": 4,
   "metadata": {},
   "outputs": [
    {
     "data": {
      "text/html": [
       "<div>\n",
       "<style scoped>\n",
       "    .dataframe tbody tr th:only-of-type {\n",
       "        vertical-align: middle;\n",
       "    }\n",
       "\n",
       "    .dataframe tbody tr th {\n",
       "        vertical-align: top;\n",
       "    }\n",
       "\n",
       "    .dataframe thead th {\n",
       "        text-align: right;\n",
       "    }\n",
       "</style>\n",
       "<table border=\"1\" class=\"dataframe\">\n",
       "  <thead>\n",
       "    <tr style=\"text-align: right;\">\n",
       "      <th></th>\n",
       "      <th>composerID</th>\n",
       "      <th>composerName</th>\n",
       "    </tr>\n",
       "  </thead>\n",
       "  <tbody>\n",
       "    <tr>\n",
       "      <th>0</th>\n",
       "      <td>0</td>\n",
       "      <td>Beethoven,  Ludwig  van</td>\n",
       "    </tr>\n",
       "    <tr>\n",
       "      <th>1</th>\n",
       "      <td>1</td>\n",
       "      <td>Weber,  Carl  Maria Von</td>\n",
       "    </tr>\n",
       "    <tr>\n",
       "      <th>2</th>\n",
       "      <td>2</td>\n",
       "      <td>Hummel,  Johann</td>\n",
       "    </tr>\n",
       "    <tr>\n",
       "      <th>3</th>\n",
       "      <td>3</td>\n",
       "      <td>No Composer</td>\n",
       "    </tr>\n",
       "    <tr>\n",
       "      <th>4</th>\n",
       "      <td>4</td>\n",
       "      <td>Rossini,  Gioachino</td>\n",
       "    </tr>\n",
       "  </tbody>\n",
       "</table>\n",
       "</div>"
      ],
      "text/plain": [
       "   composerID             composerName\n",
       "0           0  Beethoven,  Ludwig  van\n",
       "1           1  Weber,  Carl  Maria Von\n",
       "2           2          Hummel,  Johann\n",
       "3           3              No Composer\n",
       "4           4      Rossini,  Gioachino"
      ]
     },
     "execution_count": 4,
     "metadata": {},
     "output_type": "execute_result"
    }
   ],
   "source": [
    "composers = pd.Series(works.composerName.unique())\n",
    "composers = pd.DataFrame({'composerID': composers.index, 'composerName': composers})\n",
    "composers.loc[pd.isnull(composers.composerName), 'composerName'] = 'No Composer'\n",
    "composers.head()"
   ]
  },
  {
   "cell_type": "code",
   "execution_count": 5,
   "metadata": {},
   "outputs": [
    {
     "data": {
      "text/html": [
       "<div>\n",
       "<style scoped>\n",
       "    .dataframe tbody tr th:only-of-type {\n",
       "        vertical-align: middle;\n",
       "    }\n",
       "\n",
       "    .dataframe tbody tr th {\n",
       "        vertical-align: top;\n",
       "    }\n",
       "\n",
       "    .dataframe thead th {\n",
       "        text-align: right;\n",
       "    }\n",
       "</style>\n",
       "<table border=\"1\" class=\"dataframe\">\n",
       "  <thead>\n",
       "    <tr style=\"text-align: right;\">\n",
       "      <th></th>\n",
       "      <th>ID</th>\n",
       "      <th>movement</th>\n",
       "      <th>workTitle</th>\n",
       "      <th>masterID</th>\n",
       "      <th>movementID</th>\n",
       "      <th>composerID</th>\n",
       "    </tr>\n",
       "  </thead>\n",
       "  <tbody>\n",
       "    <tr>\n",
       "      <th>0</th>\n",
       "      <td>52446*</td>\n",
       "      <td></td>\n",
       "      <td>SYMPHONY NO. 5 IN C MINOR, OP.67</td>\n",
       "      <td>52446</td>\n",
       "      <td>0</td>\n",
       "      <td>0</td>\n",
       "    </tr>\n",
       "    <tr>\n",
       "      <th>1</th>\n",
       "      <td>8837*6</td>\n",
       "      <td>\"In Des Lebens Fruhlingstagen...O spur ich nic...</td>\n",
       "      <td>FIDELIO, OP. 72</td>\n",
       "      <td>8837</td>\n",
       "      <td>6</td>\n",
       "      <td>0</td>\n",
       "    </tr>\n",
       "    <tr>\n",
       "      <th>2</th>\n",
       "      <td>52437*</td>\n",
       "      <td></td>\n",
       "      <td>SYMPHONY NO. 3 IN E FLAT MAJOR, OP. 55 (EROICA)</td>\n",
       "      <td>52437</td>\n",
       "      <td>0</td>\n",
       "      <td>0</td>\n",
       "    </tr>\n",
       "    <tr>\n",
       "      <th>3</th>\n",
       "      <td>52364*1</td>\n",
       "      <td>Overture</td>\n",
       "      <td>EGMONT, OP.84</td>\n",
       "      <td>52364</td>\n",
       "      <td>1</td>\n",
       "      <td>0</td>\n",
       "    </tr>\n",
       "    <tr>\n",
       "      <th>4</th>\n",
       "      <td>52434*</td>\n",
       "      <td></td>\n",
       "      <td>SYMPHONY NO. 2 IN D MAJOR, OP.36</td>\n",
       "      <td>52434</td>\n",
       "      <td>0</td>\n",
       "      <td>0</td>\n",
       "    </tr>\n",
       "  </tbody>\n",
       "</table>\n",
       "</div>"
      ],
      "text/plain": [
       "        ID                                           movement  \\\n",
       "0   52446*                                                      \n",
       "1   8837*6  \"In Des Lebens Fruhlingstagen...O spur ich nic...   \n",
       "2   52437*                                                      \n",
       "3  52364*1                                           Overture   \n",
       "4   52434*                                                      \n",
       "\n",
       "                                         workTitle  masterID  movementID  \\\n",
       "0                 SYMPHONY NO. 5 IN C MINOR, OP.67     52446           0   \n",
       "1                                  FIDELIO, OP. 72      8837           6   \n",
       "2  SYMPHONY NO. 3 IN E FLAT MAJOR, OP. 55 (EROICA)     52437           0   \n",
       "3                                    EGMONT, OP.84     52364           1   \n",
       "4                 SYMPHONY NO. 2 IN D MAJOR, OP.36     52434           0   \n",
       "\n",
       "   composerID  \n",
       "0           0  \n",
       "1           0  \n",
       "2           0  \n",
       "3           0  \n",
       "4           0  "
      ]
     },
     "execution_count": 5,
     "metadata": {},
     "output_type": "execute_result"
    }
   ],
   "source": [
    "works = pd.merge(works, composers, on='composerName').drop('composerName', axis=1)\n",
    "works.head()"
   ]
  }
 ],
 "metadata": {
  "kernelspec": {
   "display_name": "Python 3",
   "language": "python",
   "name": "python3"
  },
  "language_info": {
   "codemirror_mode": {
    "name": "ipython",
    "version": 3
   },
   "file_extension": ".py",
   "mimetype": "text/x-python",
   "name": "python",
   "nbconvert_exporter": "python",
   "pygments_lexer": "ipython3",
   "version": "3.6.3"
  }
 },
 "nbformat": 4,
 "nbformat_minor": 2
}
