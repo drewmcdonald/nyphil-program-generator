{
 "cells": [
  {
   "cell_type": "code",
   "execution_count": 1,
   "metadata": {},
   "outputs": [],
   "source": [
    "from raw_schema import ProgramMovementSoloist, ProgramMovement, Program, Concert, Movement, Work\n",
    "from sqlalchemy import create_engine\n",
    "\n",
    "from sqlalchemy.orm import sessionmaker\n",
    "\n",
    "from lookup_tables import Orchestra, EventType, Composer, Venue, Conductor, Soloist\n",
    "\n",
    "import pandas as pd\n",
    "import numpy as np"
   ]
  },
  {
   "cell_type": "code",
   "execution_count": 2,
   "metadata": {
    "collapsed": true
   },
   "outputs": [],
   "source": [
    "engine = create_engine(\"sqlite:///db.db\")"
   ]
  },
  {
   "cell_type": "code",
   "execution_count": 166,
   "metadata": {},
   "outputs": [],
   "source": [
    "query = \"\"\"\n",
    "SELECT pm.id, pm.program_id, con.id as concert_id, pm.movement_id, w.composer_id, c.name as composer_name, m.work_id, w.title as work_title\n",
    "FROM program_movement pm \n",
    "    inner join movement m on m.id=pm.movement_id\n",
    "    inner join work w on m.work_id=w.id\n",
    "    inner join composer c on w.composer_id=c.id\n",
    "    inner join concert con on pm.program_id=con.program_id\n",
    "    inner join eventtype e on con.eventtype_id=e.id\n",
    "    inner join program p on pm.program_id=p.id\n",
    "where \n",
    "    e.name = 'Subscription Season'\n",
    "\"\"\""
   ]
  },
  {
   "cell_type": "code",
   "execution_count": 167,
   "metadata": {},
   "outputs": [],
   "source": [
    "df = pd.read_sql_query(query, engine)"
   ]
  },
  {
   "cell_type": "code",
   "execution_count": 173,
   "metadata": {},
   "outputs": [],
   "source": [
    "grouped = df[['program_id','concert_id','composer_id']]\\\n",
    "    .drop_duplicates()\\\n",
    "    .groupby(['program_id', 'concert_id'])"
   ]
  },
  {
   "cell_type": "code",
   "execution_count": 327,
   "metadata": {},
   "outputs": [],
   "source": [
    "full_data = []\n",
    "i = 0\n",
    "for pid, data in grouped:\n",
    "    d = list(data.composer_id.values)\n",
    "    d += [0]\n",
    "    full_data += d"
   ]
  },
  {
   "cell_type": "code",
   "execution_count": 328,
   "metadata": {},
   "outputs": [],
   "source": [
    "lookup_d1 = {}\n",
    "last = 0\n",
    "for this in full_data[-1:0:-1]:\n",
    "    if last in lookup_d1.keys():\n",
    "        lookup_d1[last].append(this)\n",
    "    else:\n",
    "        lookup_d1[last] = [this]\n",
    "    last = this\n",
    "    "
   ]
  },
  {
   "cell_type": "code",
   "execution_count": 329,
   "metadata": {},
   "outputs": [],
   "source": [
    "lookup_d2 = {}\n",
    "lastval = 0\n",
    "thisval = full_data[1]\n",
    "for nextval in full_data[-1:0:-1]:\n",
    "    if (lastval, thisval) in lookup_d1.keys():\n",
    "        lookup_d2[(lastval, thisval)].append(nextval)\n",
    "    else:\n",
    "        lookup_d2[(lastval, thisval)] = [nextval]\n",
    "    lastval = thisval\n",
    "    thisval = nextval\n",
    "    "
   ]
  },
  {
   "cell_type": "code",
   "execution_count": 330,
   "metadata": {},
   "outputs": [],
   "source": [
    "compnames = engine.execute(\"select id, name from composer;\").fetchall()\n",
    "compnames = {id: name for id, name in compnames}\n",
    "compnames[4] = 'INTERMISSION'\n",
    "compnames[0] = 'BEGIN'"
   ]
  },
  {
   "cell_type": "code",
   "execution_count": 331,
   "metadata": {},
   "outputs": [],
   "source": [
    "def make_composer_program():\n",
    "    lastval = 0\n",
    "    nextval = np.random.choice(lookup_d1[lastval])\n",
    "    \n",
    "    had_intermission = False\n",
    "    \n",
    "    while nextval != 0:\n",
    "        currval = nextval\n",
    "        print(compnames[currval])\n",
    "        \n",
    "        nextval = np.random.choice(lookup_d2[(lastval, currval)])\n",
    "        \n",
    "        if had_intermission and nextval == 4:\n",
    "            while nextval == 4:\n",
    "                nextval = np.random.choice(lookup_d2[(lastval, currval)])\n",
    "        if nextval == 4:\n",
    "            had_intermission = True\n",
    "        \n",
    "        lastval = currval"
   ]
  },
  {
   "cell_type": "code",
   "execution_count": 345,
   "metadata": {},
   "outputs": [
    {
     "name": "stdout",
     "output_type": "stream",
     "text": [
      "Sibelius, Jean\n",
      "INTERMISSION\n",
      "Mendelssohn, Felix\n"
     ]
    }
   ],
   "source": [
    "make_composer_program()"
   ]
  }
 ],
 "metadata": {
  "kernelspec": {
   "display_name": "Python 3",
   "language": "python",
   "name": "python3"
  },
  "language_info": {
   "codemirror_mode": {
    "name": "ipython",
    "version": 3
   },
   "file_extension": ".py",
   "mimetype": "text/x-python",
   "name": "python",
   "nbconvert_exporter": "python",
   "pygments_lexer": "ipython3",
   "version": "3.6.5"
  }
 },
 "nbformat": 4,
 "nbformat_minor": 1
}
