{
 "cells": [
  {
   "cell_type": "code",
   "execution_count": 1,
   "metadata": {},
   "outputs": [],
   "source": [
    "# database imports\n",
    "from sqlalchemy import create_engine\n",
    "from sqlalchemy.orm import sessionmaker, scoped_session\n",
    "from nyp.models import Selection\n",
    "\n",
    "from dotenv import load_dotenv\n",
    "from os import getenv\n",
    "\n",
    "load_dotenv()\n",
    "Session = scoped_session(sessionmaker(create_engine(getenv('MYSQL_CON_DEV'))))"
   ]
  },
  {
   "cell_type": "markdown",
   "metadata": {},
   "source": [
    "Read in our export set and set its index appropriately"
   ]
  },
  {
   "cell_type": "code",
   "execution_count": 2,
   "metadata": {},
   "outputs": [],
   "source": [
    "import pandas as pd\n",
    "df = pd.read_csv('../data/train_export.txt.gz', compression='gzip', sep='\\t')\n",
    "df.set_index(['concert_id', 'selection_id'], inplace=True)"
   ]
  },
  {
   "cell_type": "markdown",
   "metadata": {},
   "source": [
    "Import ChainEnsemble and set our params per export column"
   ]
  },
  {
   "cell_type": "code",
   "execution_count": 3,
   "metadata": {},
   "outputs": [],
   "source": [
    "from nyp.markov import ChainEnsemble, ChainEnsembleScorer"
   ]
  },
  {
   "cell_type": "code",
   "execution_count": 4,
   "metadata": {},
   "outputs": [],
   "source": [
    "chain_params = {\n",
    "    'full_work': {'cull': False, 'state_size': 1}, \n",
    "    'has_opus': {'cull': False, 'state_size': 2}, \n",
    "    'is_arrangement': {'cull': False, 'state_size': 1}, \n",
    "    'composer_country': {'cull': True, 'cull_threshold': 150}, \n",
    "    'composer_concert_selections': {'cull': False, 'state_size': 2}, \n",
    "    'soloist_type': {'cull': True, 'cull_threshold': 300}, \n",
    "    'selection_performances': {'cull': False, 'state_size': 3},\n",
    "    'work_type': {},\n",
    "    'composer_birth_century': {'cull': True, 'cull_threshold': 300},\n",
    "    'percent_after_intermission_bin': {},\n",
    "    'avg_percent_of_concert_bin': {}\n",
    "}\n",
    "base_params = {'cull': False, 'state_size': 4}"
   ]
  },
  {
   "cell_type": "markdown",
   "metadata": {},
   "source": [
    "Train the ensemble model"
   ]
  },
  {
   "cell_type": "code",
   "execution_count": 6,
   "metadata": {},
   "outputs": [],
   "source": [
    "model = ChainEnsemble(chain_configs=chain_params, base_chain_config=base_params)\n",
    "model.train(df, n_jobs=4);"
   ]
  },
  {
   "cell_type": "markdown",
   "metadata": {},
   "source": [
    "save the model to use elsewhere"
   ]
  },
  {
   "cell_type": "code",
   "execution_count": 7,
   "metadata": {},
   "outputs": [],
   "source": [
    "import pickle\n",
    "pickle.dump(model, open('../data/model_v1.p', 'wb'))"
   ]
  },
  {
   "cell_type": "markdown",
   "metadata": {},
   "source": [
    "Create a scoring object and make a prediction using just these five columns weighted as listed here"
   ]
  },
  {
   "cell_type": "code",
   "execution_count": 9,
   "metadata": {},
   "outputs": [],
   "source": [
    "scorer = ChainEnsembleScorer(model)"
   ]
  },
  {
   "cell_type": "code",
   "execution_count": 11,
   "metadata": {},
   "outputs": [],
   "source": [
    "from nyp.markov import rescaled_power_weight, sum_weighted_log_odds"
   ]
  },
  {
   "cell_type": "code",
   "execution_count": 14,
   "metadata": {},
   "outputs": [
    {
     "name": "stdout",
     "output_type": "stream",
     "text": [
      "<Selection 455: Full work of <Work 441: CONCERTO, PIANO, NO. 4, D MINOR, OP. 70 by <Composer 98: Rubinstein, Anton>>>\n",
      "<Selection 4: Full work of <Work 4: Intermission by <Composer 4: No Composer>>>\n",
      "<Selection 896: Full work of <Work 860: SYMPHONIC FUGUE, OP.8 by <Composer 234: Koch, Friedrich E.>>>\n"
     ]
    }
   ],
   "source": [
    "prediction_weights = {\n",
    "    'work_type': 25.0,\n",
    "    'composer_country': 1.5,\n",
    "    'composer_birth_century': 8.5,\n",
    "    'soloist_type': 15.0,\n",
    "#     'percent_after_intermission_bin': 2.5\n",
    "}\n",
    "\n",
    "program = scorer.generate_program(\n",
    "    case_weight_exponent=.5, \n",
    "    weighted_average_exponent=2.5,\n",
    "    feature_weights=prediction_weights,  \n",
    "    break_weight=1,\n",
    "#     summary_step=sum_weighted_log_odds\n",
    "    summary_step=rescaled_power_weight\n",
    ")\n",
    "\n",
    "for s in program:\n",
    "    print(Session.query(Selection).get(s))"
   ]
  }
 ],
 "metadata": {
  "kernelspec": {
   "display_name": "Python 3",
   "language": "python",
   "name": "python3"
  },
  "language_info": {
   "codemirror_mode": {
    "name": "ipython",
    "version": 3
   },
   "file_extension": ".py",
   "mimetype": "text/x-python",
   "name": "python",
   "nbconvert_exporter": "python",
   "pygments_lexer": "ipython3",
   "version": "3.6.5"
  }
 },
 "nbformat": 4,
 "nbformat_minor": 1
}
