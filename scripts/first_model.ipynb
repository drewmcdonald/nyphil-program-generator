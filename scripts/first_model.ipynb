{
 "cells": [
  {
   "cell_type": "code",
   "execution_count": 1,
   "metadata": {},
   "outputs": [],
   "source": [
    "import sys\n",
    "sys.path.append('/Users/drew/Desktop/nyp')"
   ]
  },
  {
   "cell_type": "code",
   "execution_count": 2,
   "metadata": {},
   "outputs": [],
   "source": [
    "from sqlalchemy import create_engine\n",
    "from sqlalchemy.orm import sessionmaker\n",
    "from nyp.models import Selection\n",
    "\n",
    "Session = sessionmaker(create_engine('sqlite:///../data/raw.db'))\n",
    "s = Session()"
   ]
  },
  {
   "cell_type": "code",
   "execution_count": 8,
   "metadata": {},
   "outputs": [],
   "source": [
    "from nyp.markov import Chain\n",
    "import pandas as pd\n",
    "\n",
    "df = pd.read_csv('../data/testdata_20190125.txt', sep='\\t', index_col=[0,1])\n",
    "\n",
    "df.loc[pd.isnull(df.composer_country), 'composer_country'] = 'Unknown'\n",
    "df.loc[pd.isnull(df.composer_birth_century), 'composer_birth_century'] = 'Unknown'\n",
    "df.loc[pd.isnull(df.work_type), 'work_type'] = 'Other'"
   ]
  },
  {
   "cell_type": "code",
   "execution_count": 9,
   "metadata": {},
   "outputs": [],
   "source": [
    "score_df = df.reset_index().drop('concert_id', axis=1).drop_duplicates('selection_id').set_index('selection_id').copy()\n",
    "break_row = pd.Series({c: '___BREAK__' for c in score_df.columns}, name=999999)\n",
    "score_df = score_df.append(break_row)"
   ]
  },
  {
   "cell_type": "code",
   "execution_count": 10,
   "metadata": {},
   "outputs": [
    {
     "data": {
      "text/plain": [
       "Index(['has_opus', 'is_arrangement', 'work_type', 'composer_country',\n",
       "       'composer_birth_century', 'composer_concert_selections', 'soloist_type',\n",
       "       'selection_performances', 'percent_after_intermission_bin',\n",
       "       'avg_percent_of_concert_bin'],\n",
       "      dtype='object')"
      ]
     },
     "execution_count": 10,
     "metadata": {},
     "output_type": "execute_result"
    }
   ],
   "source": [
    "df.columns"
   ]
  },
  {
   "cell_type": "code",
   "execution_count": 23,
   "metadata": {},
   "outputs": [],
   "source": [
    "chain_params = {\n",
    "    'has_opus': {'cull': False},\n",
    "    'is_arrangement': {'cull': False}, \n",
    "    'work_type': {'cull': False}, # , 'cull_threshold': 500}, \n",
    "    'composer_country': {'cull': True, 'cull_threshold': 150}, \n",
    "    'composer_birth_century': {'cull': True, 'cull_threshold': 300},\n",
    "    'composer_concert_selections': {'cull': False},\n",
    "    'soloist_type': {'cull': True, 'cull_threshold': 300}, \n",
    "    'selection_performances': {'cull': False},\n",
    "    'percent_after_intermission_bin': {'cull': False},\n",
    "    'avg_percent_of_concert_bin': {'cull': False}\n",
    "}"
   ]
  },
  {
   "cell_type": "code",
   "execution_count": 24,
   "metadata": {},
   "outputs": [],
   "source": [
    "state_size = 3\n",
    "chains = {}\n",
    "for col in chain_params:\n",
    "    chains[col] = Chain(df[col], state_size=state_size, **chain_params[col])\n",
    "    score_df[col] = chains[col].transform_scoring_series(score_df[col])"
   ]
  },
  {
   "cell_type": "code",
   "execution_count": 25,
   "metadata": {},
   "outputs": [],
   "source": [
    "def update_state(state, state_size, selection):\n",
    "    selection_row = score_df.loc[selection.id]\n",
    "    for k in state:\n",
    "        state[k] = state[k][1:] + (selection_row[k],)\n",
    "    return state\n",
    "\n",
    "def reset_state(chains, state_size):\n",
    "    return {k: ('___BREAK__',) * state_size for k in chains.keys()}"
   ]
  },
  {
   "cell_type": "code",
   "execution_count": 59,
   "metadata": {},
   "outputs": [
    {
     "name": "stdout",
     "output_type": "stream",
     "text": [
      "<Selection 6002: Selection(s) from <Work 5596: ENCHANTRESS, THE by <Composer 164: Tchaikovsky, Pyotr Ilyich>>>\n",
      "--- Intermission ---\n",
      "<Selection 6338: Full work of <Work 5915: CONCERTO, PIANO, NO. 2, OP. 16, G MINOR by <Composer 674: Prokofiev, Sergei>>>\n",
      "<Selection 4800: Selection(s) from <Work 4473: FACADE [FAÇADE] by <Composer 953: Walton, William>>>\n",
      "<Selection 3623: Full work of <Work 3396: RHAPSODY IN BLUE, PIANO, ORCHESTRA by <Composer 769: Gershwin, George>>>\n",
      "<Selection 499: Full work of <Work 483: SYMPHONY NO. 4, E MINOR, OP.50 (ARCADIAN) by <Composer 41: Bristow, George Frederick>>>\n",
      "<Selection 8688: Selection(s) from <Work 8075: SONGS OF SEPARATION by <Composer 914: Still, William Grant>>>\n",
      "<Selection 3845: Full work of <Work 3600: PICKWICK PAPERS, THE by <Composer 849: Coates, Albert>>>\n",
      "--- End ---\n"
     ]
    }
   ],
   "source": [
    "# score_df is currently unweighted...right?\n",
    "# need to train backwards\n",
    "# chain-specific options (no culling for work and selection popularity)\n",
    "# allow different state size per chain?\n",
    "\n",
    "state = reset_state(chains, state_size)\n",
    "scorecols = [col + '_score' for col in df.columns]\n",
    "\n",
    "weights = {\n",
    "    'has_opus': 1.0,\n",
    "    'is_arrangement': 1.0,\n",
    "    'work_type': 5.0,\n",
    "    'composer_country': 10.0,\n",
    "    'composer_birth_century': 10.0,\n",
    "    'composer_concert_selections': 10.0,\n",
    "    'soloist_type': 10.0,\n",
    "    'selection_performances': 20.0,\n",
    "    'percent_after_intermission_bin': 20.0,\n",
    "    'avg_percent_of_concert_bin': 10.0\n",
    "}\n",
    "\n",
    "end = False\n",
    "has_intermission = False\n",
    "while not end:\n",
    "    for col in df.columns:\n",
    "        score_df[col + '_score'] = chains[col].score_series(score_df[col], state[col]).values * weights[col]\n",
    "\n",
    "    score_df['final_score'] = score_df[scorecols].sum(axis=1) / sum(weights.values())\n",
    "\n",
    "    selection_usable = (score_df[scorecols] == 0).sum(1) == 0\n",
    "    selection_series = score_df.loc[selection_usable].final_score\n",
    "    selection_idx = selection_series.sample(weights=selection_series).index\n",
    "\n",
    "    if selection_idx == 999999:\n",
    "        print('--- End ---')\n",
    "        state = reset_state(chains, state_size)\n",
    "        end = True\n",
    "        continue\n",
    "    \n",
    "    if selection_idx == 4:\n",
    "        if not has_intermission:\n",
    "            has_intermission = True\n",
    "            selection = s.query(Selection).get(selection_idx)\n",
    "            state = update_state(state, state_size, selection)\n",
    "            print('--- Intermission ---')\n",
    "            continue\n",
    "        else:\n",
    "            while selection_idx == 4 or selection_idx == 999999:\n",
    "                selection_idx = selection_series.sample(weights=selection_series).index\n",
    "    \n",
    "    selection = s.query(Selection).get(selection_idx)\n",
    "    state = update_state(state, state_size, selection)\n",
    "    print(selection)"
   ]
  },
  {
   "cell_type": "code",
   "execution_count": null,
   "metadata": {},
   "outputs": [],
   "source": []
  }
 ],
 "metadata": {
  "kernelspec": {
   "display_name": "Python 3",
   "language": "python",
   "name": "python3"
  },
  "language_info": {
   "codemirror_mode": {
    "name": "ipython",
    "version": 3
   },
   "file_extension": ".py",
   "mimetype": "text/x-python",
   "name": "python",
   "nbconvert_exporter": "python",
   "pygments_lexer": "ipython3",
   "version": "3.6.5"
  }
 },
 "nbformat": 4,
 "nbformat_minor": 1
}
