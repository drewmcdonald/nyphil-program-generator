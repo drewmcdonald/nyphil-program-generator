{
 "cells": [
  {
   "cell_type": "code",
   "execution_count": 1,
   "metadata": {},
   "outputs": [],
   "source": [
    "from sqlalchemy import create_engine\n",
    "from sqlalchemy.orm import sessionmaker\n",
    "from nyp.models import Selection\n",
    "\n",
    "Session = sessionmaker(create_engine('sqlite:///../data/raw.db'))\n",
    "s = Session()"
   ]
  },
  {
   "cell_type": "code",
   "execution_count": 5,
   "metadata": {},
   "outputs": [],
   "source": [
    "from nyp.markov import Chain\n",
    "import pandas as pd\n",
    "\n",
    "df = pd.read_csv('../data/testdata_20190125.txt', sep='\\t', index_col=[0,1])\n",
    "\n",
    "df.loc[pd.isnull(df.composer_country), 'composer_country'] = 'Unknown'\n",
    "df.loc[pd.isnull(df.composer_death_century), 'composer_death_century'] = 'Unknown'\n",
    "df.loc[pd.isnull(df.work_type), 'work_type'] = 'Other'"
   ]
  },
  {
   "cell_type": "code",
   "execution_count": 6,
   "metadata": {},
   "outputs": [],
   "source": [
    "score_df = df.reset_index().drop('concert_id', axis=1).drop_duplicates('selection_id').set_index('selection_id').copy()\n",
    "break_row = pd.Series({c: '___BREAK__' for c in score_df.columns}, name=999999)\n",
    "score_df = score_df.append(break_row)"
   ]
  },
  {
   "cell_type": "code",
   "execution_count": 21,
   "metadata": {},
   "outputs": [
    {
     "name": "stderr",
     "output_type": "stream",
     "text": [
      "/Users/drew/Desktop/nyp/venv/lib/python3.6/site-packages/pandas/core/indexing.py:189: SettingWithCopyWarning: \n",
      "A value is trying to be set on a copy of a slice from a DataFrame\n",
      "\n",
      "See the caveats in the documentation: http://pandas.pydata.org/pandas-docs/stable/indexing.html#indexing-view-versus-copy\n",
      "  self._setitem_with_indexer(indexer, value)\n"
     ]
    }
   ],
   "source": [
    "state_size = 3\n",
    "chains = {}\n",
    "for col in df.columns:\n",
    "    chains[col] = Chain(df[col], state_size=state_size, cull_threshold=200)\n",
    "    score_df[col] = chains[col].transform_scoring_series(score_df[col])"
   ]
  },
  {
   "cell_type": "code",
   "execution_count": 22,
   "metadata": {},
   "outputs": [],
   "source": [
    "def update_state(state, state_size, selection):\n",
    "    selection_row = score_df.loc[selection.id]\n",
    "    for k in state:\n",
    "        state[k] = state[k][1:] + (selection_row[k],)\n",
    "    return state\n",
    "\n",
    "def reset_state(chains, state_size):\n",
    "    return {k: ('___BREAK__',) * state_size for k in chains.keys()}"
   ]
  },
  {
   "cell_type": "code",
   "execution_count": 35,
   "metadata": {},
   "outputs": [
    {
     "name": "stdout",
     "output_type": "stream",
     "text": [
      "<Selection 9791: Full work of <Work 9095: FANFARE by <Composer 1944: Sheng, Bright>>>\n",
      "--- Intermission ---\n",
      "<Selection 6872: Full work of <Work 6409: OVERTURE FOR AN ENGLISH OPERA by <Composer 15: Haydn, Franz Joseph>>>\n",
      "<Selection 190: Full work of <Work 186: SYMPHONY NO. 2, C MAJOR, OP. 61 by <Composer 51: Schumann, Robert>>>\n",
      "<Selection 3099: Selection(s) from <Work 2907: MORNING, NOON, AND NIGHT IN VIENNA by <Composer 315: Suppe, Franz Von>>>\n",
      "--- End ---\n"
     ]
    }
   ],
   "source": [
    "# score_df is currently unweighted...right?\n",
    "# need to train backwards\n",
    "# chain-specific options (no culling for work and selection popularity)\n",
    "\n",
    "state = reset_state(chains, state_size)\n",
    "scorecols = [col + '_score' for col in df.columns]\n",
    "\n",
    "weights = {\n",
    "    'has_opus': 1,\n",
    "    'is_arrangement': 1,\n",
    "    'work_type': 2,\n",
    "    'composer_country': 2,\n",
    "    'composer_death_century': 2,\n",
    "    'composer_concert_selections': 2,\n",
    "    'soloist_type': 2\n",
    "}\n",
    "\n",
    "end = False\n",
    "has_intermission = False\n",
    "while not end:\n",
    "    for col in df.columns:\n",
    "        score_df[col + '_score'] = chains[col].score_series(score_df[col], state[col]).values * weights[col]\n",
    "\n",
    "    score_df['final_score'] = score_df[scorecols].sum(axis=1) / sum(weights.values())\n",
    "\n",
    "    selection_usable = (score_df[scorecols] == 0).sum(1) == 0\n",
    "    selection_series = score_df.loc[selection_usable].final_score\n",
    "    selection_idx = selection_series.sample(weights=selection_series).index\n",
    "\n",
    "    if selection_idx == 999999:\n",
    "        print('--- End ---')\n",
    "        state = reset_state(chains, state_size)\n",
    "        end = True\n",
    "        continue\n",
    "    \n",
    "    if selection_idx == 4:\n",
    "        if not has_intermission:\n",
    "            has_intermission = True\n",
    "            selection = s.query(Selection).get(selection_idx)\n",
    "            state = update_state(state, state_size, selection)\n",
    "            print('--- Intermission ---')\n",
    "            continue\n",
    "        else:\n",
    "            while selection_idx == 4 or selection_idx == 999999:\n",
    "                selection_idx = selection_series.sample(weights=selection_series).index\n",
    "    \n",
    "    selection = s.query(Selection).get(selection_idx)\n",
    "    state = update_state(state, state_size, selection)\n",
    "    print(selection)"
   ]
  }
 ],
 "metadata": {
  "kernelspec": {
   "display_name": "Python 3",
   "language": "python",
   "name": "python3"
  },
  "language_info": {
   "codemirror_mode": {
    "name": "ipython",
    "version": 3
   },
   "file_extension": ".py",
   "mimetype": "text/x-python",
   "name": "python",
   "nbconvert_exporter": "python",
   "pygments_lexer": "ipython3",
   "version": "3.6.5"
  }
 },
 "nbformat": 4,
 "nbformat_minor": 1
}
