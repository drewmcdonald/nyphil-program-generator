{
 "cells": [
  {
   "cell_type": "markdown",
   "metadata": {},
   "source": [
    "Read in our export set and set its index appropriately"
   ]
  },
  {
   "cell_type": "code",
   "execution_count": 1,
   "metadata": {},
   "outputs": [],
   "source": [
    "import pandas as pd\n",
    "df = pd.read_csv('../data/train_export.txt.gz', compression='gzip', sep='\\t')\n",
    "df.set_index(['concert_id', 'selection_id'], inplace=True)"
   ]
  },
  {
   "cell_type": "markdown",
   "metadata": {},
   "source": [
    "Import ChainEnsemble and set our params per export column"
   ]
  },
  {
   "cell_type": "code",
   "execution_count": 2,
   "metadata": {},
   "outputs": [],
   "source": [
    "from nyp.markov import ChainEnsemble, ChainEnsembleScorer"
   ]
  },
  {
   "cell_type": "code",
   "execution_count": 3,
   "metadata": {},
   "outputs": [],
   "source": [
    "chain_params = {\n",
    "    'full_work': {'cull': False, 'state_size': 1}, \n",
    "    'has_opus': {'cull': False, 'state_size': 2}, \n",
    "    'is_arrangement': {'cull': False, 'state_size': 1}, \n",
    "    'composer_country': {'cull': True, 'cull_threshold': 150, 'state_size': 3}, \n",
    "    'composer_concert_selections': {'cull': False, 'state_size': 2}, \n",
    "    'soloist_type': {'cull': True, 'cull_threshold': 300, 'state_size': 3}, \n",
    "    'selection_performances': {'cull': False, 'state_size': 3},\n",
    "    'work_type': {},\n",
    "    'composer_birth_century': {'cull': True, 'cull_threshold': 300},\n",
    "    'percent_after_intermission_bin': {},\n",
    "    'avg_percent_of_concert_bin': {}\n",
    "}\n",
    "base_params = {'cull': False, 'state_size': 4}"
   ]
  },
  {
   "cell_type": "markdown",
   "metadata": {},
   "source": [
    "Train the ensemble model"
   ]
  },
  {
   "cell_type": "code",
   "execution_count": 4,
   "metadata": {},
   "outputs": [],
   "source": [
    "model = ChainEnsemble(chain_configs=chain_params, base_chain_config=base_params)\n",
    "model.train(df, n_jobs=4);"
   ]
  },
  {
   "cell_type": "markdown",
   "metadata": {},
   "source": [
    "save the model to use elsewhere"
   ]
  },
  {
   "cell_type": "code",
   "execution_count": 5,
   "metadata": {},
   "outputs": [],
   "source": [
    "import pickle\n",
    "pickle.dump(model, open('../data/model_v1.p', 'wb'))"
   ]
  },
  {
   "cell_type": "markdown",
   "metadata": {},
   "source": [
    "Create a scoring object and make a prediction using just these five columns weighted as listed here"
   ]
  },
  {
   "cell_type": "code",
   "execution_count": 6,
   "metadata": {},
   "outputs": [],
   "source": [
    "scorer = ChainEnsembleScorer(model)"
   ]
  },
  {
   "cell_type": "code",
   "execution_count": 7,
   "metadata": {},
   "outputs": [],
   "source": [
    "prediction_weights = {\n",
    "    'work_type': 3.0,\n",
    "    'composer_country': 1.0,\n",
    "    'composer_birth_century': 1.0,\n",
    "    'soloist_type': 2.0,\n",
    "    'percent_after_intermission_bin': 4.0\n",
    "}"
   ]
  },
  {
   "cell_type": "code",
   "execution_count": 8,
   "metadata": {},
   "outputs": [
    {
     "data": {
      "text/plain": [
       "[8125, 4386, 4, 564, 1406]"
      ]
     },
     "execution_count": 8,
     "metadata": {},
     "output_type": "execute_result"
    }
   ],
   "source": [
    "scorer.generate_program(prediction_weights, break_weight=10)"
   ]
  }
 ],
 "metadata": {
  "kernelspec": {
   "display_name": "Python 3",
   "language": "python",
   "name": "python3"
  },
  "language_info": {
   "codemirror_mode": {
    "name": "ipython",
    "version": 3
   },
   "file_extension": ".py",
   "mimetype": "text/x-python",
   "name": "python",
   "nbconvert_exporter": "python",
   "pygments_lexer": "ipython3",
   "version": "3.6.5"
  }
 },
 "nbformat": 4,
 "nbformat_minor": 1
}
