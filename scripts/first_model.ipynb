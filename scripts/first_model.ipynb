{
 "cells": [
  {
   "cell_type": "markdown",
   "metadata": {},
   "source": [
    "Make sure jupyter can find the nyp package"
   ]
  },
  {
   "cell_type": "code",
   "execution_count": 1,
   "metadata": {},
   "outputs": [],
   "source": [
    "import sys\n",
    "sys.path.append('/Users/drew/Desktop/nyp')"
   ]
  },
  {
   "cell_type": "markdown",
   "metadata": {},
   "source": [
    "Read in our export set and set its index appropriately"
   ]
  },
  {
   "cell_type": "code",
   "execution_count": 2,
   "metadata": {},
   "outputs": [],
   "source": [
    "import pandas as pd\n",
    "df = pd.read_csv('../data/train_export.gz', compression='gzip', sep='\\t')\n",
    "df.set_index(['concert_id', 'selection_id'], inplace=True)"
   ]
  },
  {
   "cell_type": "markdown",
   "metadata": {},
   "source": [
    "Import ChainEnsemble and set our params per export column"
   ]
  },
  {
   "cell_type": "code",
   "execution_count": 3,
   "metadata": {},
   "outputs": [],
   "source": [
    "from nyp.markov import ChainEnsemble"
   ]
  },
  {
   "cell_type": "code",
   "execution_count": 4,
   "metadata": {},
   "outputs": [],
   "source": [
    "chain_params = {\n",
    "    'full_work': {'cull': False, 'state_size': 1}, \n",
    "    'has_opus': {'cull': False, 'state_size': 2}, \n",
    "    'is_arrangement': {'cull': False, 'state_size': 1}, \n",
    "    'composer_country': {'cull': True, 'cull_threshold': 150, 'state_size': 3}, \n",
    "    'composer_concert_selections': {'cull': False, 'state_size': 2}, \n",
    "    'soloist_type': {'cull': True, 'cull_threshold': 300, 'state_size': 3}, \n",
    "    'selection_performances': {'cull': False, 'state_size': 3},\n",
    "    'work_type': {},\n",
    "    'composer_birth_century': {'cull': True, 'cull_threshold': 300},\n",
    "    'percent_after_intermission_bin': {},\n",
    "    'avg_percent_of_concert_bin': {}\n",
    "}\n",
    "base_params = {'cull': False, 'state_size': 3}"
   ]
  },
  {
   "cell_type": "markdown",
   "metadata": {},
   "source": [
    "Train the ensemble model"
   ]
  },
  {
   "cell_type": "code",
   "execution_count": 5,
   "metadata": {},
   "outputs": [],
   "source": [
    "model = ChainEnsemble(chain_configs=chain_params, base_chain_config=base_params)\n",
    "model.train(df, n_jobs=4);"
   ]
  },
  {
   "cell_type": "markdown",
   "metadata": {},
   "source": [
    "Make a prediction using just these five columns weighted as listed here"
   ]
  },
  {
   "cell_type": "code",
   "execution_count": 6,
   "metadata": {},
   "outputs": [],
   "source": [
    "prediction_weights = {\n",
    "    'work_type': 2.0,\n",
    "    'composer_country': 1.0,\n",
    "    'composer_birth_century': 1.0,\n",
    "    'soloist_type': 2.0,\n",
    "    'percent_after_intermission_bin': 3.0\n",
    "}"
   ]
  },
  {
   "cell_type": "markdown",
   "metadata": {},
   "source": [
    "Predict a set of selection IDs"
   ]
  },
  {
   "cell_type": "code",
   "execution_count": 7,
   "metadata": {},
   "outputs": [
    {
     "data": {
      "text/plain": [
       "[1791, 199, 4, 1173]"
      ]
     },
     "execution_count": 7,
     "metadata": {},
     "output_type": "execute_result"
    }
   ],
   "source": [
    "model.generate_program(prediction_weights)"
   ]
  },
  {
   "cell_type": "markdown",
   "metadata": {},
   "source": [
    "save the model to play with elsewhere"
   ]
  },
  {
   "cell_type": "code",
   "execution_count": 8,
   "metadata": {},
   "outputs": [],
   "source": [
    "import pickle\n",
    "pickle.dump(model, open('../data/model.p', 'wb'))"
   ]
  }
 ],
 "metadata": {
  "kernelspec": {
   "display_name": "Python 3",
   "language": "python",
   "name": "python3"
  },
  "language_info": {
   "codemirror_mode": {
    "name": "ipython",
    "version": 3
   },
   "file_extension": ".py",
   "mimetype": "text/x-python",
   "name": "python",
   "nbconvert_exporter": "python",
   "pygments_lexer": "ipython3",
   "version": "3.6.5"
  }
 },
 "nbformat": 4,
 "nbformat_minor": 1
}
